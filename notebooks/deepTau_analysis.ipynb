{
 "cells": [
  {
   "cell_type": "code",
   "execution_count": 1,
   "metadata": {},
   "outputs": [
    {
     "name": "stdout",
     "output_type": "stream",
     "text": [
      "Welcome to JupyROOT 6.22/02\n"
     ]
    }
   ],
   "source": [
    "import sys\n",
    "sys.path.append('../')\n",
    "from scripts.helpers import ROC_fromTuples\n",
    "from scripts.selection import *\n",
    "import ROOT\n",
    "from ROOT import TTree \n",
    "from sklearn.metrics import roc_curve, auc\n",
    "import numpy as np\n",
    "import uproot\n",
    "import awkward as ak\n",
    "%matplotlib inline\n",
    "import matplotlib.pyplot as plt"
   ]
  },
  {
   "cell_type": "code",
   "execution_count": 3,
   "metadata": {},
   "outputs": [
    {
     "name": "stdout",
     "output_type": "stream",
     "text": [
      "[[177.94908 116.30658 4.5636206 4.4635415 1.6282612] [68.61354 45.64627 36.557236] [102.1446 56.470238 54.399242 ... 0.99585944 0.9592106 0.6880077]]\n",
      "[[177.94908 116.30658] [68.61354 45.64627 36.557236] [102.1446 56.470238 54.399242]]\n",
      "[[False True] [False True True] [False True False]]\n",
      "[[False True] [False True True] [False True True]]\n",
      "[[True True] [True True True] [True True True]]\n",
      "[[False True] [False True True] [False True False]]\n"
     ]
    }
   ],
   "source": [
    "# get trees for efficiency from file\n",
    "fileName_eff = \"/Users/mascella/workspace/EPR-workspace/analysis_deepTau/data/VBFToTauTau_minPt20.root\"\n",
    "treeName_gen = \"gen_counter\" \n",
    "treeName_in = \"initial_counter\" \n",
    "events_gen, events_in = getEvents_fromFile(fileName_eff, treeName_gen, treeName_in)\n",
    "taus = getTaus(events_in)\n",
    "print(taus.pt[range(3)])\n",
    "L1taus = getL1taus(events_in)\n",
    "taus = L1THLTTauMatching(L1taus, taus)\n",
    "taus = HLTJetPairDzMatchFilter(taus)\n",
    "print(taus.pt[range(3)])\n",
    "print(true_tau_selection(taus)[range(3)])\n",
    "print(gen_tau_selection(taus)[range(3)])\n",
    "print(reco_tau_selection(taus, minPt=20., eta_sel=False)[range(3)])\n",
    "num_tau_mask = true_tau_selection(taus) & gen_tau_selection(taus) & reco_tau_selection(taus, minPt=20., eta_sel=False)\n",
    "print(num_tau_mask[range(3)])\n",
    "# L1taus = getL1taus(events_in)\n",
    "# L2taus = L1THLTTauMatching(L1taus, taus)\n",
    "# L2taus = HLTJetPairDzMatchFilter(L2taus)\n",
    "# L2taus = L2taus[iso_tau_selection(L2taus, \"tightIsoAbs\", \"tightIsoRel\")]\n",
    "# print(L2taus.flatten().size)\n",
    "# L2taus = L2taus[(L2taus[\"tightIsoAbs\"]==1) | (L2taus[\"tightIsoRel\"]==1)]\n",
    "# print(L2taus.flatten().size)"
   ]
  },
  {
   "cell_type": "code",
   "execution_count": 8,
   "metadata": {},
   "outputs": [
    {
     "name": "stdout",
     "output_type": "stream",
     "text": [
      "53011\n",
      "90\n"
     ]
    }
   ],
   "source": [
    "# print(L2taus.deepTau_VSjet[(L2taus.lepton_gen_match==5) | (L2taus.lepton_gen_match==6)].flatten().size)\n",
    "gen_match = L2taus.lepton_gen_match # generator info\n",
    "pred_all = L2taus.deepTau_VSjet\n",
    "truth_all = where(gen_match==5, 1, 0)\n",
    "sel_tauorjets = (L2taus.lepton_gen_match==5) | (L2taus.lepton_gen_match==6)\n",
    "pred = pred_all[sel_tauorjets] # deepTau predictions for tau_h and jets\n",
    "truth = truth_all[sel_tauorjets] # truth info for tau_h and jets\n",
    "print(truth.flatten().size)\n",
    "truth = truth[pred==0]\n",
    "print(truth.flatten().size)\n",
    "pred = pred[pred==0]\n",
    "\n",
    "fpr, tpr, thr = roc_curve(truth.flatten(), pred.flatten())"
   ]
  },
  {
   "cell_type": "code",
   "execution_count": null,
   "metadata": {},
   "outputs": [],
   "source": [
    "taus = ak.JaggedArray.zip(e=events.tau_e, pt=events.tau_pt, eta=events.tau_eta, phi=events.tau_phi, \n",
    "                                looseIsoAbs=events.tau_looseIsoAbs, looseIsoRel=events.tau_looseIsoRel,\n",
    "                                mediumIsoAbs=events.tau_looseIsoAbs, mediumIsoRel=events.tau_looseIsoRel,\n",
    "                                tightIsoAbs=events.tau_tightIsoAbs, tightIsoRel=events.tau_tightIsoRel,\n",
    "                                gen_e = events.gen_tau_e, gen_pt=events.gen_tau_pt, gen_eta=events.gen_tau_eta, gen_phi=events.gen_tau_phi,\n",
    "                                lepton_gen_match=events.lepton_gen_match)\n",
    "# L1tau = ak.JaggedArray.zip(pt=events_in.L1tau_pt, eta=events_in.L1tau_eta, phi=events_in.L1tau_phi)\n",
    "taus.pt"
   ]
  },
  {
   "cell_type": "code",
   "execution_count": null,
   "metadata": {},
   "outputs": [],
   "source": [
    "\n",
    "# true_taus = events_in[events_in[\"lepton_gen_match\"]==5]\n",
    "# print(true_taus[\"lepton_gen_match\"][0,5])\n",
    "# true_jets = events_in[events_in[\"lepton_gen_match\"]==6]\n",
    "# print(true_jets[\"lepton_gen_match\"][0,5])\n",
    "r = range(5)\n",
    "var_abs = \"tau_mediumIsoAbs\"\n",
    "var_rel = \"tau_mediumIsoRel\"\n",
    "cut = (events_in[var_abs]>0) | (events_in[var_rel]>0)\n",
    "print((events_in[var_abs]>0)[r])\n",
    "print((events_in[var_rel]>0)[r])\n",
    "print(cut[r])\n",
    "\n",
    "tau_sel = cut & (events_in[\"lepton_gen_match\"]==5)\n",
    "jet_sel = cut & (events_in[\"lepton_gen_match\"]==6)\n",
    "print((events_in[\"lepton_gen_match\"])[r])\n",
    "print(tau_sel[r])\n",
    "print(tau_sel.flatten()[range(10)])\n",
    "print((events_in[\"lepton_gen_match\"]==5).flatten()[range(10)])\n",
    "tpr = (tau_sel.flatten().sum())/((events_in[\"lepton_gen_match\"]==5).flatten().sum())\n",
    "fpr = (jet_sel.flatten().sum())/((events_in[\"lepton_gen_match\"]==6).flatten().sum())\n",
    "print(tpr)\n",
    "print(fpr)\n",
    "\n",
    "# tpr = ((true_taus[cut_tau][\"lepton_gen_match\"]).counts.sum())/(true_taus[\"lepton_gen_match\"].counts.sum())\n",
    "# fpr = ((true_jets[cut_jet][\"lepton_gen_match\"]).counts.sum())/(true_jets[\"lepton_gen_match\"].counts.sum())\n"
   ]
  },
  {
   "cell_type": "code",
   "execution_count": null,
   "metadata": {},
   "outputs": [],
   "source": [
    "plt.hist(events_in['gen_tau_eta'][events_in['lepton_gen_match']==5].flatten(), bins=50, range=[0, 3])"
   ]
  },
  {
   "cell_type": "code",
   "execution_count": null,
   "metadata": {},
   "outputs": [],
   "source": [
    "r = range(2,5)\n",
    "# print((events_gen['lepton_gen_match']==1).sum().sum())\n",
    "# plt.hist(events_gen['lepton_gen_match'].flatten())\n",
    "\n",
    "# print(((events_gen['gen_tau_pt']>0).sum()>2).sum())\n",
    "# print(events_in[\"lepton_gen_match\"][r])\n",
    "# print(events_in['gen_tau_pt'][r]) \n",
    "# print(events_in['tau_pt'][r])\n",
    "# mask = (events_in[\"lepton_gen_match\"]==5) & (events_in['gen_tau_pt']>35.) & (events_in['tau_pt']>40.)\n",
    "# print(mask[r])\n",
    "# true_taus_pred = events_in['deepTau_VSjet'][mask] # deepTau prediction for tau_h\n",
    "# print(events_in['deepTau_VSjet'][r])\n",
    "# print(true_taus_pred[r])\n",
    "# plt.hist((events_in['gen_tau_pt'][mask]).flatten(), bins=50, range=[20, 100])\n",
    "gen_minPt = 35\n",
    "gen_maxEta = 2.1\n",
    "print(len(events_gen))\n",
    "print(events_gen['gen_tau_pt'][r])\n",
    "print(events_gen['gen_tau_eta'][r])\n",
    "mask_den = (events_gen['gen_tau_pt']>gen_minPt) & (events_gen['gen_tau_eta']<gen_maxEta) & (events_gen['gen_tau_eta']>-gen_maxEta)\n",
    "print(mask_den[r])\n",
    "print(events_gen['gen_tau_pt'][mask_den].counts[r])\n",
    "print((events_gen['gen_tau_pt'][mask_den].counts>=2).sum())\n"
   ]
  },
  {
   "cell_type": "code",
   "execution_count": null,
   "metadata": {},
   "outputs": [],
   "source": [
    "# generate ROC curve for deepTau_VSjet\n",
    "fpr, tpr, thr, pred, truth = ROC_fromTuples(events_in)\n",
    "score = auc(fpr, tpr)\n",
    "print(\"AUC ROC:\", score)\n",
    "plt.yscale('log')\n",
    "plt.xlabel(r'$\\tau$ ID efficiency')\n",
    "plt.ylabel('jet misID probability')\n",
    "plt.plot(tpr, fpr, '-')\n",
    "print(len(thr))"
   ]
  },
  {
   "cell_type": "code",
   "execution_count": null,
   "metadata": {},
   "outputs": [],
   "source": [
    "# deepTau_VSjet distribution for signal and background\n",
    "gen_match = events_in[\"lepton_gen_match\"] # generator info\n",
    "pred_all = events_in[\"deepTau_VSjet\"]\n",
    "truth_all = where(gen_match==5, 1, 0)\n",
    "sel_tauorjets = where((gen_match==5)|(gen_match==6), 1, 0)>0\n",
    "pred = pred_all[sel_tauorjets] # deepTau predictions for tau_h and jets\n",
    "truth = truth_all[sel_tauorjets] # truth info for tau_h and jets\n",
    "plt.hist(pred[truth==1].flatten(), range=[0,1.25], bins=50, alpha=0.5, label=r\"$\\tau_h$\")\n",
    "plt.hist(pred[truth==0].flatten(), bins=50, range=[0,1.25], alpha=0.5, label=\"jets\")\n",
    "plt.legend()\n",
    "plt.xlabel(\"deepTau_VSjet\")\n",
    "plt.savefig(\"VSjet_distr.pdf\")"
   ]
  },
  {
   "cell_type": "code",
   "execution_count": null,
   "metadata": {},
   "outputs": [],
   "source": [
    "# compute efficiencies\n",
    "# from scipy.stats import loguniform\n",
    "# a, b = 0.01, 1\n",
    "# x = np.linspace(loguniform.ppf(0.99, a, b),\n",
    "#                 loguniform.ppf(0.01, a, b), 100)\n",
    "# thr = loguniform.pdf(1-x, a, b)\n",
    "eff = compute_efficiency(events_in, len(events_gen), thr, 40.)\n",
    "print(eff)\n",
    "print(len(events_gen))"
   ]
  },
  {
   "cell_type": "code",
   "execution_count": null,
   "metadata": {},
   "outputs": [],
   "source": [
    "# get trees for rates from file\n",
    "fileName_rates = \"/Users/mascella/workspace/EPR-workspace/analysis_deepTau/data/HLTPhys_1-8.root\"\n",
    "events_gen_rates, events_in_rates = getEvents_fromFile(fileName_rates, treeName_gen, treeName_in)\n",
    "print(len(events_in_rates))\n",
    "plt.hist(events_in_rates['deepTau_VSjet'].flatten(), bins=50, alpha=0.5)\n",
    "plt.hist(events_in_rates['tau_pt'].flatten(), bins=50)"
   ]
  },
  {
   "cell_type": "code",
   "execution_count": null,
   "metadata": {},
   "outputs": [],
   "source": [
    "# compute rates\n",
    "Ntot = len(events_gen_rates)\n",
    "L1rate = 73455.34\n",
    "rates = compute_rates(events_in_rates, Ntot, L1rate, thr, 40.)\n",
    "print(rates)"
   ]
  },
  {
   "cell_type": "code",
   "execution_count": null,
   "metadata": {},
   "outputs": [],
   "source": [
    "plt.xlabel(\"Efficiency\")\n",
    "plt.ylabel(\"Rate [Hz]\")\n",
    "plt.title(\"Rate vs Efficiency\")\n",
    "plt.plot(eff[range(0, len(thr)-1000, 100)], rates[range(0, len(thr)-1000, 100)], '.-')\n",
    "print(rates[range(0, len(thr)-1000, 100)])"
   ]
  },
  {
   "cell_type": "code",
   "execution_count": null,
   "metadata": {},
   "outputs": [],
   "source": []
  },
  {
   "cell_type": "code",
   "execution_count": null,
   "metadata": {},
   "outputs": [],
   "source": []
  }
 ],
 "metadata": {
  "kernelspec": {
   "display_name": "Python 3",
   "language": "python",
   "name": "python3"
  },
  "language_info": {
   "codemirror_mode": {
    "name": "ipython",
    "version": 3
   },
   "file_extension": ".py",
   "mimetype": "text/x-python",
   "name": "python",
   "nbconvert_exporter": "python",
   "pygments_lexer": "ipython3",
   "version": "3.8.5"
  }
 },
 "nbformat": 4,
 "nbformat_minor": 2
}
