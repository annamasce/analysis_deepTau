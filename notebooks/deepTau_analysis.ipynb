{
 "cells": [
  {
   "cell_type": "code",
   "execution_count": 66,
   "metadata": {},
   "outputs": [],
   "source": [
    "import ROOT\n",
    "from ROOT import TTree\n",
    "from sklearn.metrics import roc_curve, auc\n",
    "import numpy as np\n",
    "import uproot\n",
    "import awkward as ak"
   ]
  },
  {
   "cell_type": "code",
   "execution_count": 84,
   "metadata": {},
   "outputs": [
    {
     "name": "stdout",
     "output_type": "stream",
     "text": [
      "<class 'dict'>\n",
      "<class 'awkward.array.table.Table'>\n",
      "247\n"
     ]
    }
   ],
   "source": [
    "fileName = \"/Users/mascella/workspace/EPR-workspace/histo.root\"\n",
    "treeName = \"initial_counter\"\n",
    "event_tree = uproot.open(fileName)[treeName]\n",
    "events = event_tree.arrays(namedecode='utf-8')\n",
    "print(type(events))\n",
    "events = ak.Table(events)\n",
    "print(type(events))\n",
    "print(events.size)"
   ]
  },
  {
   "cell_type": "code",
   "execution_count": 68,
   "metadata": {},
   "outputs": [
    {
     "name": "stdout",
     "output_type": "stream",
     "text": [
      "[[3 5 6 6] [6 6 5 5 6] [5 3] ... [5 5 6] [5 6 5 ... 6 6 6] [5 5]]\n",
      "<class 'awkward.array.jagged.JaggedArray'>\n"
     ]
    }
   ],
   "source": [
    "gen_match = events[\"lepton_gen_match\"]\n",
    "print(gen_match)\n",
    "print(type(gen_match))"
   ]
  },
  {
   "cell_type": "code",
   "execution_count": 69,
   "metadata": {},
   "outputs": [],
   "source": [
    "def where(condition, if_true, if_false):\n",
    "    return condition*if_true + (1 - condition)*if_false"
   ]
  },
  {
   "cell_type": "code",
   "execution_count": 70,
   "metadata": {},
   "outputs": [],
   "source": [
    "# gen_match_flat = gen_match.flatten()\n",
    "# pred_VSjet = events.arrays()[b\"deepTau_VSjet\"].flatten()\n",
    "# pred_VSe = events.arrays()[b\"deepTau_VSe\"].flatten()\n",
    "# pred_VSmu = events.arrays()[b\"deepTau_VSmu\"].flatten()\n",
    "# # print(gen_match[:4])\n",
    "# # print(pred_VSjet[:4])\n",
    "# # print(pred_VSe[:4])\n",
    "# # print(pred_VSmu[:4])\n",
    "# pred_VSjet_mean = {}\n",
    "# pred_VSe_mean = {}    \n",
    "# pred_VSmu_mean = {}    \n",
    "# for ii in range(3,7):\n",
    "#     pred_VSjet_mean[ii] = np.mean(pred_VSjet[gen_match_flat == ii])\n",
    "#     pred_VSe_mean[ii] = np.mean(pred_VSe[gen_match_flat == ii])    \n",
    "#     pred_VSmu_mean[ii] = np.mean(pred_VSmu[gen_match_flat == ii])\n",
    "# print(pred_VSjet_mean)\n",
    "# print(pred_VSe_mean)\n",
    "# print(pred_VSmu_mean)"
   ]
  },
  {
   "cell_type": "code",
   "execution_count": 71,
   "metadata": {},
   "outputs": [
    {
     "name": "stdout",
     "output_type": "stream",
     "text": [
      "[[3 5 6 6] [6 6 5 5 6] [5 3] ... [5 5 6] [5 6 5 ... 6 6 6] [5 5]]\n",
      "[[False True True True] [True True True True True] [True False] ... [True True True] [True True True ... True True True] [True True]]\n",
      "[[0.99232286 1.0001591e-05 2.4669174e-07 0.0] [0.0022637232 0.0018526925 0.015802292 1.0 1.0] [0.99998695 0.95646775] ... [0.99201125 0.010836753 0.102956764] [1.0 0.9903036 6.388735e-05 ... 1.0 0.0 0.0] [0.010929887 2.1273685e-05]]\n",
      "[[0 1 0 0] [0 0 1 1 0] [1 0] ... [1 1 0] [1 0 1 ... 0 0 0] [1 1]]\n",
      "[[1.0001591e-05 2.4669174e-07 0.0] [0.0022637232 0.0018526925 0.015802292 1.0 1.0] [0.99998695] ... [0.99201125 0.010836753 0.102956764] [1.0 0.9903036 6.388735e-05 ... 1.0 0.0 0.0] [0.010929887 2.1273685e-05]]\n",
      "[[1 0 0] [0 0 1 1 0] [1] ... [1 1 0] [1 0 1 ... 0 0 0] [1 1]]\n"
     ]
    }
   ],
   "source": [
    "pred_all = events[\"deepTau_VSjet\"]\n",
    "truth_all = where(gen_match==5, 1, 0)\n",
    "sel_tauorjets = where(gen_match>=5, 1, 0)>0\n",
    "pred = pred_all[sel_tauorjets]\n",
    "truth = truth_all[sel_tauorjets]\n",
    "print(gen_match)\n",
    "print(sel_tauorjets)\n",
    "print(pred_all)\n",
    "print(truth_all)\n",
    "print(pred)\n",
    "print(truth)"
   ]
  },
  {
   "cell_type": "code",
   "execution_count": 72,
   "metadata": {},
   "outputs": [
    {
     "data": {
      "text/plain": [
       "0.5789601659157548"
      ]
     },
     "execution_count": 72,
     "metadata": {},
     "output_type": "execute_result"
    }
   ],
   "source": [
    "fpr, tpr, _ = roc_curve(truth.flatten(), pred.flatten())\n",
    "score = auc(fpr, tpr)\n",
    "score"
   ]
  },
  {
   "cell_type": "code",
   "execution_count": 73,
   "metadata": {},
   "outputs": [
    {
     "data": {
      "text/plain": [
       "[<matplotlib.lines.Line2D at 0x7fc94bb42b80>]"
      ]
     },
     "execution_count": 73,
     "metadata": {},
     "output_type": "execute_result"
    },
    {
     "data": {
      "image/png": "[encoded data removed]",
      "text/plain": [
       "<Figure size 432x288 with 1 Axes>"
      ]
     },
     "metadata": {
      "needs_background": "light"
     },
     "output_type": "display_data"
    }
   ],
   "source": [
    "%matplotlib inline\n",
    "import matplotlib.pyplot as plt\n",
    "plt.plot(tpr, fpr)\n",
    "#plt.hist(y_pred_taus.flatten())"
   ]
  },
  {
   "cell_type": "code",
   "execution_count": 83,
   "metadata": {},
   "outputs": [
    {
     "name": "stdout",
     "output_type": "stream",
     "text": [
      "395\n",
      "531\n"
     ]
    },
    {
     "data": {
      "image/png": "[encoded data removed]",
      "text/plain": [
       "<Figure size 432x288 with 1 Axes>"
      ]
     },
     "metadata": {
      "needs_background": "light"
     },
     "output_type": "display_data"
    }
   ],
   "source": [
    "print(len(pred[truth==1].flatten()))\n",
    "print(len(pred[truth==0].flatten()))\n",
    "plt.hist(pred[truth==1].flatten(), bins=50, alpha=0.5, label=\"sig\")\n",
    "plt.hist(pred[truth==0].flatten(), bins=50, alpha=0.5, label=\"bkg\")\n",
    "plt.legend()\n",
    "plt.xlabel(\"deepTau_VSjet\")\n",
    "plt.savefig(\"VSjet_distr.pdf\")"
   ]
  },
  {
   "cell_type": "code",
   "execution_count": null,
   "metadata": {},
   "outputs": [],
   "source": []
  }
 ],
 "metadata": {
  "kernelspec": {
   "display_name": "Python 3",
   "language": "python",
   "name": "python3"
  },
  "language_info": {
   "codemirror_mode": {
    "name": "ipython",
    "version": 3
   },
   "file_extension": ".py",
   "mimetype": "text/x-python",
   "name": "python",
   "nbconvert_exporter": "python",
   "pygments_lexer": "ipython3",
   "version": "3.8.5"
  }
 },
 "nbformat": 4,
 "nbformat_minor": 2
}
